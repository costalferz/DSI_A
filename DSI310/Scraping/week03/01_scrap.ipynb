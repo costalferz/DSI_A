{
 "cells": [
  {
   "cell_type": "code",
   "execution_count": 7,
   "metadata": {},
   "outputs": [],
   "source": [
    "import pandas as pd\n",
    "import bs4\n",
    "import requests"
   ]
  },
  {
   "cell_type": "code",
   "execution_count": 8,
   "metadata": {},
   "outputs": [],
   "source": [
    "page = 1\n",
    "name = []\n",
    "price = []\n",
    "while page <= 5:\n",
    "    dataset = requests.get('https://www.checkraka.com/car/?fuel_type=4078&quicksearch_order=306,DESC-326,ASC&page=' + str(page))\n",
    "    soup = bs4.BeautifulSoup(dataset.text)\n",
    "    for c in soup.find_all('div',{'class':'content c158'}):\n",
    "        name.append(c.find('div',{'class':'data'}).find('a').text)\n",
    "        price.append(int(c.find('div',{'class':'price'}).text.split()[0].replace(',','')))\n",
    "    page += 1 \n",
    "\n",
    "table = pd.DataFrame([name,price]).transpose()\n",
    "table.columns = ['Name_1','Price']\n",
    "\n",
    "table.to_csv('Cars-price.csv', index=True)\n"
   ]
  },
  {
   "cell_type": "markdown",
   "metadata": {},
   "source": [
    "# Upload data to DataPlatform"
   ]
  },
  {
   "cell_type": "code",
   "execution_count": null,
   "metadata": {},
   "outputs": [],
   "source": [
    "from dsmlibrary.datanode import DataNode"
   ]
  },
  {
   "cell_type": "code",
   "execution_count": null,
   "metadata": {},
   "outputs": [],
   "source": [
    "dir_raw_id = 41"
   ]
  },
  {
   "cell_type": "code",
   "execution_count": null,
   "metadata": {},
   "outputs": [],
   "source": [
    "datanode = DataNode()"
   ]
  },
  {
   "cell_type": "code",
   "execution_count": null,
   "metadata": {},
   "outputs": [],
   "source": [
    "datanode.upload_file(directory_id=dir_raw_id, file_path='Cars-price.csv')"
   ]
  }
 ],
 "metadata": {
  "kernelspec": {
   "display_name": "Python 3.9.6 64-bit",
   "language": "python",
   "name": "python3"
  },
  "language_info": {
   "codemirror_mode": {
    "name": "ipython",
    "version": 3
   },
   "file_extension": ".py",
   "mimetype": "text/x-python",
   "name": "python",
   "nbconvert_exporter": "python",
   "pygments_lexer": "ipython3",
   "version": "3.9.6"
  },
  "orig_nbformat": 4,
  "vscode": {
   "interpreter": {
    "hash": "4c4accb185272368ac0249fb20f3c250a2498404374b476dc3318b0b7ba1f0c3"
   }
  }
 },
 "nbformat": 4,
 "nbformat_minor": 2
}
