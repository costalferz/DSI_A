{
 "cells": [
  {
   "cell_type": "code",
   "execution_count": 3,
   "metadata": {},
   "outputs": [],
   "source": [
    "from urllib.request import urlopen\n",
    "import numpy as np\n",
    "import pandas as pd\n",
    "import json"
   ]
  },
  {
   "cell_type": "code",
   "execution_count": 4,
   "metadata": {},
   "outputs": [],
   "source": [
    "url = \"https://crm.nissan.co.th/mapi/evar/evmarkers.aspx\""
   ]
  },
  {
   "cell_type": "code",
   "execution_count": 5,
   "metadata": {},
   "outputs": [],
   "source": [
    "response = urlopen(url)"
   ]
  },
  {
   "cell_type": "code",
   "execution_count": 6,
   "metadata": {},
   "outputs": [],
   "source": [
    "data_json = json.loads(response.read())"
   ]
  },
  {
   "cell_type": "code",
   "execution_count": 8,
   "metadata": {},
   "outputs": [
    {
     "data": {
      "text/html": [
       "<div>\n",
       "<style scoped>\n",
       "    .dataframe tbody tr th:only-of-type {\n",
       "        vertical-align: middle;\n",
       "    }\n",
       "\n",
       "    .dataframe tbody tr th {\n",
       "        vertical-align: top;\n",
       "    }\n",
       "\n",
       "    .dataframe thead th {\n",
       "        text-align: right;\n",
       "    }\n",
       "</style>\n",
       "<table border=\"1\" class=\"dataframe\">\n",
       "  <thead>\n",
       "    <tr style=\"text-align: right;\">\n",
       "      <th></th>\n",
       "      <th>evsttid</th>\n",
       "      <th>networkname</th>\n",
       "      <th>stationname</th>\n",
       "      <th>addth</th>\n",
       "      <th>addeng</th>\n",
       "      <th>plgtypename</th>\n",
       "      <th>lat</th>\n",
       "      <th>lng</th>\n",
       "    </tr>\n",
       "  </thead>\n",
       "  <tbody>\n",
       "    <tr>\n",
       "      <th>0</th>\n",
       "      <td>1</td>\n",
       "      <td>MEA</td>\n",
       "      <td>กรมควบคุมมลพิษ</td>\n",
       "      <td>92 ซ.พหลโยธิน 7 แขวงสามเสนใน เขตพญาไท กรุงเทพฯ...</td>\n",
       "      <td>92 Phaholyothin 7, Khwaeng Sam Sen Nai, Khet P...</td>\n",
       "      <td>type 2</td>\n",
       "      <td>13.784445</td>\n",
       "      <td>100.539844</td>\n",
       "    </tr>\n",
       "    <tr>\n",
       "      <th>1</th>\n",
       "      <td>1</td>\n",
       "      <td>MEA</td>\n",
       "      <td>กรมควบคุมมลพิษ</td>\n",
       "      <td>92 ซ.พหลโยธิน 7 แขวงสามเสนใน เขตพญาไท กรุงเทพฯ...</td>\n",
       "      <td>92 Phaholyothin 7, Khwaeng Sam Sen Nai, Khet P...</td>\n",
       "      <td>chademo</td>\n",
       "      <td>13.784445</td>\n",
       "      <td>100.539844</td>\n",
       "    </tr>\n",
       "    <tr>\n",
       "      <th>2</th>\n",
       "      <td>2</td>\n",
       "      <td>MEA</td>\n",
       "      <td>บริษัท แรบบิท ออโต้ คราฟท์ จำกัด</td>\n",
       "      <td>2741/9 ถนนลาดพร้าว แขวงคลองเจ้าคุณสิงห์ เขตวัง...</td>\n",
       "      <td>2741/9 Lard plao Rd, Khwaeng Khlong Chaokhunsi...</td>\n",
       "      <td>chademo</td>\n",
       "      <td>13.776982</td>\n",
       "      <td>100.626810</td>\n",
       "    </tr>\n",
       "    <tr>\n",
       "      <th>3</th>\n",
       "      <td>3</td>\n",
       "      <td>MEA</td>\n",
       "      <td>บริษัท ทีเอสแอล ออโต้ คอร์ปอเรชั่น จำกัด</td>\n",
       "      <td>78/9 หมู่ 1 ถนนแจ้งวัฒนะ ตำบลคลองเกลือ อำเภอปา...</td>\n",
       "      <td>78/9 Moo.1, Chaeng Watthana Rd, Khlong Klua, P...</td>\n",
       "      <td>chademo</td>\n",
       "      <td>13.897237</td>\n",
       "      <td>100.550172</td>\n",
       "    </tr>\n",
       "    <tr>\n",
       "      <th>4</th>\n",
       "      <td>4</td>\n",
       "      <td>MEA</td>\n",
       "      <td>บริษัท ทีเอสแอล ออโต้ เซอร์วิส 2016 จำกัด</td>\n",
       "      <td>ถนนบรมราชชนนี 68 แขวงศาลาธรรมสพน์ เขตทวีวัฒนา ...</td>\n",
       "      <td>Borommaratchachonnani 68 Rd, Khwaeng Sala Tham...</td>\n",
       "      <td>chademo</td>\n",
       "      <td>13.788177</td>\n",
       "      <td>100.376583</td>\n",
       "    </tr>\n",
       "    <tr>\n",
       "      <th>...</th>\n",
       "      <td>...</td>\n",
       "      <td>...</td>\n",
       "      <td>...</td>\n",
       "      <td>...</td>\n",
       "      <td>...</td>\n",
       "      <td>...</td>\n",
       "      <td>...</td>\n",
       "      <td>...</td>\n",
       "    </tr>\n",
       "    <tr>\n",
       "      <th>584</th>\n",
       "      <td>501</td>\n",
       "      <td>EA ANYWHERE</td>\n",
       "      <td>CALTEX เอ็ม เอ็นเนอร์จี้</td>\n",
       "      <td>190 หมู่ที่3 ต.สันกลาง อ.สันกำแพง จ.เชียงใหม่ ...</td>\n",
       "      <td>190 หมู่ที่3 ต.สันกลาง อ.สันกำแพง จ.เชียงใหม่ ...</td>\n",
       "      <td>type 2</td>\n",
       "      <td>18.778977</td>\n",
       "      <td>99.069310</td>\n",
       "    </tr>\n",
       "    <tr>\n",
       "      <th>585</th>\n",
       "      <td>502</td>\n",
       "      <td>EA ANYWHERE</td>\n",
       "      <td>CALTEX ไพศาลนครสวรรค์</td>\n",
       "      <td>99 หมู่ที่7 ต.บางม่วง อ.เมือง จ.นครสวรรค์ Bang...</td>\n",
       "      <td>99 หมู่ที่7 ต.บางม่วง อ.เมือง จ.นครสวรรค์ Bang...</td>\n",
       "      <td>type 2</td>\n",
       "      <td>15.750086</td>\n",
       "      <td>100.122142</td>\n",
       "    </tr>\n",
       "    <tr>\n",
       "      <th>586</th>\n",
       "      <td>503</td>\n",
       "      <td>EA ANYWHERE</td>\n",
       "      <td>Rest Go Tiwanon</td>\n",
       "      <td>401/3 หมู่ที่3 ต.บ้านใหม่ อ.ปากเกร็ด จ.นนทบุรี...</td>\n",
       "      <td>401/3 หมู่ที่3 ต.บ้านใหม่ อ.ปากเกร็ด จ.นนทบุรี...</td>\n",
       "      <td>type 2</td>\n",
       "      <td>13.937406</td>\n",
       "      <td>100.540006</td>\n",
       "    </tr>\n",
       "    <tr>\n",
       "      <th>587</th>\n",
       "      <td>504</td>\n",
       "      <td>EA ANYWHERE</td>\n",
       "      <td>ฟอร์ตี้ ไนน์</td>\n",
       "      <td>49 หมู่ที่12 ต.หนองควาย อ.หางดง จ.เชียงใหม่ No...</td>\n",
       "      <td>49 หมู่ที่12 ต.หนองควาย อ.หางดง จ.เชียงใหม่ No...</td>\n",
       "      <td>type 2</td>\n",
       "      <td>18.740252</td>\n",
       "      <td>98.935720</td>\n",
       "    </tr>\n",
       "    <tr>\n",
       "      <th>588</th>\n",
       "      <td>505</td>\n",
       "      <td>EA ANYWHERE</td>\n",
       "      <td>Magnolias Waterfront Residences</td>\n",
       "      <td>259 ถ.เจริญนคร คลองต้นไทร คลองสาน กรุงเทพฯ  Kh...</td>\n",
       "      <td>259 ถ.เจริญนคร คลองต้นไทร คลองสาน กรุงเทพฯ  Kh...</td>\n",
       "      <td>type 2</td>\n",
       "      <td>13.727306</td>\n",
       "      <td>100.510499</td>\n",
       "    </tr>\n",
       "  </tbody>\n",
       "</table>\n",
       "<p>589 rows × 8 columns</p>\n",
       "</div>"
      ],
      "text/plain": [
       "    evsttid  networkname                                stationname  \\\n",
       "0         1          MEA                             กรมควบคุมมลพิษ   \n",
       "1         1          MEA                             กรมควบคุมมลพิษ   \n",
       "2         2          MEA           บริษัท แรบบิท ออโต้ คราฟท์ จำกัด   \n",
       "3         3          MEA   บริษัท ทีเอสแอล ออโต้ คอร์ปอเรชั่น จำกัด   \n",
       "4         4          MEA  บริษัท ทีเอสแอล ออโต้ เซอร์วิส 2016 จำกัด   \n",
       "..      ...          ...                                        ...   \n",
       "584     501  EA ANYWHERE                   CALTEX เอ็ม เอ็นเนอร์จี้   \n",
       "585     502  EA ANYWHERE                      CALTEX ไพศาลนครสวรรค์   \n",
       "586     503  EA ANYWHERE                            Rest Go Tiwanon   \n",
       "587     504  EA ANYWHERE                               ฟอร์ตี้ ไนน์   \n",
       "588     505  EA ANYWHERE            Magnolias Waterfront Residences   \n",
       "\n",
       "                                                 addth  \\\n",
       "0    92 ซ.พหลโยธิน 7 แขวงสามเสนใน เขตพญาไท กรุงเทพฯ...   \n",
       "1    92 ซ.พหลโยธิน 7 แขวงสามเสนใน เขตพญาไท กรุงเทพฯ...   \n",
       "2    2741/9 ถนนลาดพร้าว แขวงคลองเจ้าคุณสิงห์ เขตวัง...   \n",
       "3    78/9 หมู่ 1 ถนนแจ้งวัฒนะ ตำบลคลองเกลือ อำเภอปา...   \n",
       "4    ถนนบรมราชชนนี 68 แขวงศาลาธรรมสพน์ เขตทวีวัฒนา ...   \n",
       "..                                                 ...   \n",
       "584  190 หมู่ที่3 ต.สันกลาง อ.สันกำแพง จ.เชียงใหม่ ...   \n",
       "585  99 หมู่ที่7 ต.บางม่วง อ.เมือง จ.นครสวรรค์ Bang...   \n",
       "586  401/3 หมู่ที่3 ต.บ้านใหม่ อ.ปากเกร็ด จ.นนทบุรี...   \n",
       "587  49 หมู่ที่12 ต.หนองควาย อ.หางดง จ.เชียงใหม่ No...   \n",
       "588  259 ถ.เจริญนคร คลองต้นไทร คลองสาน กรุงเทพฯ  Kh...   \n",
       "\n",
       "                                                addeng plgtypename        lat  \\\n",
       "0    92 Phaholyothin 7, Khwaeng Sam Sen Nai, Khet P...      type 2  13.784445   \n",
       "1    92 Phaholyothin 7, Khwaeng Sam Sen Nai, Khet P...     chademo  13.784445   \n",
       "2    2741/9 Lard plao Rd, Khwaeng Khlong Chaokhunsi...     chademo  13.776982   \n",
       "3    78/9 Moo.1, Chaeng Watthana Rd, Khlong Klua, P...     chademo  13.897237   \n",
       "4    Borommaratchachonnani 68 Rd, Khwaeng Sala Tham...     chademo  13.788177   \n",
       "..                                                 ...         ...        ...   \n",
       "584  190 หมู่ที่3 ต.สันกลาง อ.สันกำแพง จ.เชียงใหม่ ...      type 2  18.778977   \n",
       "585  99 หมู่ที่7 ต.บางม่วง อ.เมือง จ.นครสวรรค์ Bang...      type 2  15.750086   \n",
       "586  401/3 หมู่ที่3 ต.บ้านใหม่ อ.ปากเกร็ด จ.นนทบุรี...      type 2  13.937406   \n",
       "587  49 หมู่ที่12 ต.หนองควาย อ.หางดง จ.เชียงใหม่ No...      type 2  18.740252   \n",
       "588  259 ถ.เจริญนคร คลองต้นไทร คลองสาน กรุงเทพฯ  Kh...      type 2  13.727306   \n",
       "\n",
       "            lng  \n",
       "0    100.539844  \n",
       "1    100.539844  \n",
       "2    100.626810  \n",
       "3    100.550172  \n",
       "4    100.376583  \n",
       "..          ...  \n",
       "584   99.069310  \n",
       "585  100.122142  \n",
       "586  100.540006  \n",
       "587   98.935720  \n",
       "588  100.510499  \n",
       "\n",
       "[589 rows x 8 columns]"
      ]
     },
     "execution_count": 8,
     "metadata": {},
     "output_type": "execute_result"
    }
   ],
   "source": [
    "df = pd.json_normalize(data_json, record_path =['data'])\n",
    "df"
   ]
  },
  {
   "cell_type": "code",
   "execution_count": null,
   "metadata": {},
   "outputs": [],
   "source": [
    "df.to_csv('NISSAN_EV_STATION.csv',encoding=\"utf-8-sig\", index=False)"
   ]
  },
  {
   "cell_type": "markdown",
   "metadata": {},
   "source": [
    "# Upload data to DataPlatform"
   ]
  },
  {
   "cell_type": "code",
   "execution_count": null,
   "metadata": {},
   "outputs": [],
   "source": [
    "from dsmlibrary.datanode import DataNode"
   ]
  },
  {
   "cell_type": "code",
   "execution_count": null,
   "metadata": {},
   "outputs": [],
   "source": [
    "dir_raw_id = 41"
   ]
  },
  {
   "cell_type": "code",
   "execution_count": null,
   "metadata": {},
   "outputs": [],
   "source": [
    "datanode = DataNode()"
   ]
  },
  {
   "cell_type": "code",
   "execution_count": null,
   "metadata": {},
   "outputs": [],
   "source": [
    "datanode.upload_file(directory_id=dir_raw_id, file_path='NISSAN_EV_STATION.csv')"
   ]
  }
 ],
 "metadata": {
  "kernelspec": {
   "display_name": "Python 3.8.11 ('base')",
   "language": "python",
   "name": "python3"
  },
  "language_info": {
   "codemirror_mode": {
    "name": "ipython",
    "version": 3
   },
   "file_extension": ".py",
   "mimetype": "text/x-python",
   "name": "python",
   "nbconvert_exporter": "python",
   "pygments_lexer": "ipython3",
   "version": "3.8.11"
  },
  "vscode": {
   "interpreter": {
    "hash": "e793081f5837e3d2f31d051b603ef48b5eb5440e5f19c634539c27d4f1966a40"
   }
  }
 },
 "nbformat": 4,
 "nbformat_minor": 4
}
