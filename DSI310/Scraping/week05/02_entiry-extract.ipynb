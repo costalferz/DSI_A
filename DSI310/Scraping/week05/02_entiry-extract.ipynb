{
 "cells": [
  {
   "cell_type": "code",
   "execution_count": null,
   "metadata": {},
   "outputs": [],
   "source": [
    "import pandas as pd\n",
    "import re"
   ]
  },
  {
   "cell_type": "code",
   "execution_count": null,
   "metadata": {},
   "outputs": [],
   "source": [
    "dir_raw_id = 41\n",
    "dir_process_id = 42"
   ]
  },
  {
   "cell_type": "code",
   "execution_count": null,
   "metadata": {},
   "outputs": [],
   "source": [
    "from dsmlibrary.datanode import DataNode\n",
    "\n",
    "datanode = DataNode()"
   ]
  },
  {
   "cell_type": "code",
   "execution_count": null,
   "metadata": {},
   "outputs": [],
   "source": [
    "meta, fp = datanode.get_file(datanode.get_file_id(directory_id=dir_raw_id, name='Electric_Vehicle_Detail.csv'))\n",
    "meta"
   ]
  },
  {
   "cell_type": "code",
   "execution_count": null,
   "metadata": {},
   "outputs": [],
   "source": [
    "data = pd.read_csv(fp,encoding=\"utf-8-sig\")"
   ]
  },
  {
   "cell_type": "code",
   "execution_count": null,
   "metadata": {},
   "outputs": [],
   "source": [
    "data.info()"
   ]
  },
  {
   "cell_type": "code",
   "execution_count": null,
   "metadata": {},
   "outputs": [],
   "source": [
    "data.isnull().sum()"
   ]
  },
  {
   "cell_type": "code",
   "execution_count": null,
   "metadata": {},
   "outputs": [],
   "source": [
    "data2 = data.dropna()\n",
    "data2"
   ]
  },
  {
   "cell_type": "code",
   "execution_count": null,
   "metadata": {},
   "outputs": [],
   "source": [
    "data2['Battery'] = data2['Battery'].astype(float)\n",
    "data2['Range'] = data2['Range'].str.extract('(\\d+)').astype('int64')\n",
    "data2['Topspeed'] = data2['Topspeed'].str.extract('(\\d+)').astype('int64')\n",
    "data2['Acceleration'] = data2['Acceleration'].str.extract('(\\d+.\\d+)').astype(float)\n",
    "data2['Fastcharge'] = data2['Fastcharge'].str.extract('(\\d+)').replace('-','0').fillna(0).astype('int64')\n",
    "data2['Price_UK'] = data2['Price_UK'].str.replace('£','').str.replace(',','').str.replace('*','').astype('int64')\n"
   ]
  },
  {
   "cell_type": "code",
   "execution_count": null,
   "metadata": {},
   "outputs": [],
   "source": [
    "data2"
   ]
  },
  {
   "cell_type": "code",
   "execution_count": null,
   "metadata": {},
   "outputs": [],
   "source": [
    "data2.info()"
   ]
  },
  {
   "cell_type": "markdown",
   "metadata": {},
   "source": [
    "# Write DataNode to DataPlatform\n"
   ]
  },
  {
   "cell_type": "code",
   "execution_count": null,
   "metadata": {},
   "outputs": [],
   "source": [
    "datanode.write(df=data2, directory=dir_process_id, name=\"Electric_Vehicle_Detail\",\n",
    "               profiling=True, lineage=[datanode.get_file_id(directory_id=dir_raw_id, name='Electric_Vehicle_Detail.csv')])"
   ]
  }
 ],
 "metadata": {
  "kernelspec": {
   "display_name": "Python 3.9.6 ('EV')",
   "language": "python",
   "name": "python3"
  },
  "language_info": {
   "codemirror_mode": {
    "name": "ipython",
    "version": 3
   },
   "file_extension": ".py",
   "mimetype": "text/x-python",
   "name": "python",
   "nbconvert_exporter": "python",
   "pygments_lexer": "ipython3",
   "version": "3.9.6"
  },
  "orig_nbformat": 4,
  "vscode": {
   "interpreter": {
    "hash": "028b4f77fb5f648f1de69c8595421be4a1a7855f003bbdf66588a434a306e5db"
   }
  }
 },
 "nbformat": 4,
 "nbformat_minor": 2
}
