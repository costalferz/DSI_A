{
  "cells": [
    {
      "cell_type": "code",
      "execution_count": 1,
      "metadata": {
        "colab": {
          "base_uri": "https://localhost:8080/"
        },
        "id": "mlTH7AfmdzLa",
        "outputId": "7c1a8a33-fcab-44cc-ba86-473cfa3c233f"
      },
      "outputs": [
        {
          "name": "stdout",
          "output_type": "stream",
          "text": [
            "\u001b[K     |████████████████████████████████| 271 kB 7.6 MB/s \n",
            "\u001b[K     |████████████████████████████████| 254 kB 53.4 MB/s \n",
            "\u001b[K     |████████████████████████████████| 93 kB 2.1 MB/s \n",
            "\u001b[K     |████████████████████████████████| 3.1 MB 42.9 MB/s \n",
            "\u001b[K     |████████████████████████████████| 4.1 MB 45.0 MB/s \n",
            "\u001b[K     |████████████████████████████████| 57 kB 4.9 MB/s \n",
            "\u001b[K     |████████████████████████████████| 74 kB 2.0 MB/s \n",
            "\u001b[?25h  Building wheel for PyDispatcher (setup.py) ... \u001b[?25l\u001b[?25hdone\n"
          ]
        }
      ],
      "source": [
        "!pip install scrapy --quiet\n",
        "!pip install crochet --quiet"
      ]
    },
    {
      "cell_type": "code",
      "execution_count": 1,
      "metadata": {
        "id": "86eDlPAxdM_R"
      },
      "outputs": [],
      "source": [
        "# scrape webpage\n",
        "import scrapy\n",
        "from scrapy.crawler import CrawlerRunner\n",
        "import pandas as pd\n",
        "# Reactor restart\n",
        "from crochet import setup, wait_for\n",
        "setup()"
      ]
    },
    {
      "cell_type": "code",
      "execution_count": 2,
      "metadata": {
        "id": "NC5NThbPeDgm"
      },
      "outputs": [],
      "source": [
        "class QuotesToCsv(scrapy.Spider):\n",
        "    \"\"\"scrape first line of  quotes from ```wikiquote``` by \n",
        "    Maynerd James Keenan and save to json file\"\"\"\n",
        "    name = \"EV_BASE\"\n",
        "    start_urls = [\n",
        "        'https://ev-database.org',\n",
        "    ]\n",
        "    custom_settings = {\n",
        "\n",
        "        'FEEDS': {\n",
        "            'Electric_Vehicle_Detail.csv': {\n",
        "                'format': 'csv',\n",
        "                'overwrite': True\n",
        "            }\n",
        "        }\n",
        "    }\n",
        "\n",
        "    def parse(self, response):\n",
        "        \"\"\"parse data from urls\"\"\"\n",
        "        for i in response.xpath('.//div[@class=\"data-wrapper\"]'):\n",
        "            yield {\n",
        "                \"Brand\" : i.css('span::text').get(),\n",
        "                \"Model\" : i.css('span.model::text').get(),\n",
        "                \"Seat\" : i.xpath('.//*[@title=\"Number of seats\"]/text()').get(),\n",
        "                \"Battery\" : i.css('span.battery::text').get(),\n",
        "                \"Range\" : i.css('span.erange_real::text').get(),\n",
        "                \"Topspeed\": i.css('span.topspeed::text').get(),\n",
        "                \"Acceleration\": i.css('span.acceleration::text').get(),\n",
        "                \"Fastcharge\": i.css('span.fastcharge_speed_print::text').get(),\n",
        "                \"Price_UK\": i.css('span.country_uk::text').get(),\n",
        "            }\n",
        "\n",
        "@wait_for(10)\n",
        "def run_spider():\n",
        "    \"\"\"run spider with MJKQuotesToCsv\"\"\"\n",
        "    crawler = CrawlerRunner()\n",
        "    d = crawler.crawl(QuotesToCsv)\n",
        "    return d"
      ]
    },
    {
      "cell_type": "code",
      "execution_count": 3,
      "metadata": {
        "id": "VmlhRd6uePpr"
      },
      "outputs": [],
      "source": [
        "run_spider()"
      ]
    },
    {
      "cell_type": "markdown",
      "metadata": {},
      "source": [
        "# Upload data to DataPlatform"
      ]
    },
    {
      "cell_type": "code",
      "execution_count": null,
      "metadata": {},
      "outputs": [],
      "source": [
        "from dsmlibrary.datanode import DataNode"
      ]
    },
    {
      "cell_type": "code",
      "execution_count": null,
      "metadata": {
        "id": "dBCcyoYneSAk"
      },
      "outputs": [],
      "source": [
        "\n",
        "dir_raw_id = 41\n",
        "dir_process_id = 42"
      ]
    },
    {
      "cell_type": "code",
      "execution_count": null,
      "metadata": {},
      "outputs": [],
      "source": [
        "datanode = DataNode()"
      ]
    },
    {
      "cell_type": "code",
      "execution_count": null,
      "metadata": {},
      "outputs": [],
      "source": [
        "datanode.upload_file(directory_id=dir_raw_id, file_path='Electric_Vehicle_Detail.csv')"
      ]
    }
  ],
  "metadata": {
    "colab": {
      "provenance": []
    },
    "kernelspec": {
      "display_name": "Python 3.9.6 ('EV')",
      "language": "python",
      "name": "python3"
    },
    "language_info": {
      "codemirror_mode": {
        "name": "ipython",
        "version": 3
      },
      "file_extension": ".py",
      "mimetype": "text/x-python",
      "name": "python",
      "nbconvert_exporter": "python",
      "pygments_lexer": "ipython3",
      "version": "3.9.6"
    },
    "vscode": {
      "interpreter": {
        "hash": "028b4f77fb5f648f1de69c8595421be4a1a7855f003bbdf66588a434a306e5db"
      }
    }
  },
  "nbformat": 4,
  "nbformat_minor": 0
}
