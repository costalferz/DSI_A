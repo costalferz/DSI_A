{
  "cells": [
    {
      "cell_type": "code",
      "execution_count": 47,
      "metadata": {
        "id": "eEkrJBaK9vdD"
      },
      "outputs": [],
      "source": [
        "import pandas as pd\n",
        "import bs4\n",
        "import requests"
      ]
    },
    {
      "cell_type": "code",
      "execution_count": 48,
      "metadata": {
        "id": "-0OPg50AHUwd"
      },
      "outputs": [],
      "source": [
        "title_list = []\n",
        "date_list = []\n",
        "detail_list = []\n"
      ]
    },
    {
      "cell_type": "code",
      "execution_count": 50,
      "metadata": {
        "id": "JSX0waMumQVk"
      },
      "outputs": [],
      "source": [
        "for i in range(0,45):\n",
        "  data = requests.get(\"https://thestandard.co/page/\"+str(i)+\"/?s=%E0%B8%A3%E0%B8%96%E0%B8%A2%E0%B8%99%E0%B8%95%E0%B9%8C%E0%B9%84%E0%B8%9F%E0%B8%9F%E0%B9%89%E0%B8%B2&search\")\n",
        "  soup = bs4.BeautifulSoup(data.text)\n",
        "  for c in soup.find_all('div', class_='col-md-8'):\n",
        "    title_list.append(c.find('h3', class_= 'news-title').find('a').text.strip())\n",
        "    date_list.append(c.find('div', class_='date').text.strip())\n",
        "    detail_list.append(c.find('div', class_='desc').text.strip())"
      ]
    },
    {
      "cell_type": "code",
      "execution_count": 51,
      "metadata": {
        "id": "IgqWMgl1_0sh"
      },
      "outputs": [],
      "source": [
        "table = pd.DataFrame([title_list,date_list,detail_list,]).transpose()"
      ]
    },
    {
      "cell_type": "code",
      "execution_count": 52,
      "metadata": {
        "colab": {
          "base_uri": "https://localhost:8080/",
          "height": 423
        },
        "id": "Y1PSwArmA_0c",
        "outputId": "312e3f88-801a-4435-89c9-f44cdfd1ea1c"
      },
      "outputs": [
        {
          "data": {
            "text/html": [
              "\n",
              "  <div id=\"df-f3ef4345-ac00-4db9-af21-a2f551971c33\">\n",
              "    <div class=\"colab-df-container\">\n",
              "      <div>\n",
              "<style scoped>\n",
              "    .dataframe tbody tr th:only-of-type {\n",
              "        vertical-align: middle;\n",
              "    }\n",
              "\n",
              "    .dataframe tbody tr th {\n",
              "        vertical-align: top;\n",
              "    }\n",
              "\n",
              "    .dataframe thead th {\n",
              "        text-align: right;\n",
              "    }\n",
              "</style>\n",
              "<table border=\"1\" class=\"dataframe\">\n",
              "  <thead>\n",
              "    <tr style=\"text-align: right;\">\n",
              "      <th></th>\n",
              "      <th>title</th>\n",
              "      <th>date</th>\n",
              "      <th>detail</th>\n",
              "    </tr>\n",
              "  </thead>\n",
              "  <tbody>\n",
              "    <tr>\n",
              "      <th>0</th>\n",
              "      <td>Toyota เคาะราคาขาย รถยนต์ไฟฟ้า Toyota bZ4X 1,8...</td>\n",
              "      <td>9 พฤศจิกายน 2022</td>\n",
              "      <td>Toyota ประเทศไทย ได้ประกาศขาย รถยนต์ไฟฟ้า รุ่น...</td>\n",
              "    </tr>\n",
              "    <tr>\n",
              "      <th>1</th>\n",
              "      <td>เปิดเงื่อนไขซื้อ ‘รถยนต์ไฟฟ้า’ รัฐบาลช่วยจ่ายเ...</td>\n",
              "      <td>3 พฤศจิกายน 2022</td>\n",
              "      <td>เงื่อนไขการซื้อรถยนต์ไฟฟ้าในประเทศ หลังรัฐบาลส...</td>\n",
              "    </tr>\n",
              "    <tr>\n",
              "      <th>2</th>\n",
              "      <td>ชมคลิป: แบรนด์ รถยนต์ไฟฟ้า จีนรุกหนักทั่วโลก ไ...</td>\n",
              "      <td>3 พฤศจิกายน 2022</td>\n",
              "      <td>การแข่งขันในอุตสาหกรรม รถยนต์ไฟฟ้า ยานยนต์ไฟฟ้...</td>\n",
              "    </tr>\n",
              "    <tr>\n",
              "      <th>3</th>\n",
              "      <td>‘ทีเอ็มบีธนชาต’ ผนึก ‘ธนชาตประกันภัย’ เปิดตัวป...</td>\n",
              "      <td>2 พฤศจิกายน 2022</td>\n",
              "      <td>ทีเอ็มบีธนชาตจับมือธนชาตประกันภัย รุกตลาดแบงก์...</td>\n",
              "    </tr>\n",
              "    <tr>\n",
              "      <th>4</th>\n",
              "      <td>‘Tesla’ ประกาศหั่นราคาขายในตลาดจีน 9% กูรูหวั่...</td>\n",
              "      <td>25 ตุลาคม 2022</td>\n",
              "      <td>Tesla ผู้ผลิตรถยนต์ไฟฟ้าชั้นนำสัญชาติสหรัฐฯ ปร...</td>\n",
              "    </tr>\n",
              "    <tr>\n",
              "      <th>...</th>\n",
              "      <td>...</td>\n",
              "      <td>...</td>\n",
              "      <td>...</td>\n",
              "    </tr>\n",
              "    <tr>\n",
              "      <th>765</th>\n",
              "      <td>เป็นแค่ ‘ปั๊มน้ำมัน’ ทำไม! OR คิดการใหญ่ วางแผ...</td>\n",
              "      <td>5 พฤศจิกายน 2021</td>\n",
              "      <td>OR บริษัทรัฐวิสาหกิจยักษ์ใหญ่ด้านพลังงานและการ...</td>\n",
              "    </tr>\n",
              "    <tr>\n",
              "      <th>766</th>\n",
              "      <td>ชมคลิป: เราจะได้เป็นเจ้าของ EV จริงๆ ใช่ไหม หั...</td>\n",
              "      <td>4 พฤศจิกายน 2021</td>\n",
              "      <td>ราคาจำหน่ายไม่ใช่แค่ปัจจัยสำคัญเพียงอย่างเดียว...</td>\n",
              "    </tr>\n",
              "    <tr>\n",
              "      <th>767</th>\n",
              "      <td>Net Zero Emissions: ถอดรหัสถ้อยแถลงของรัฐบาลไท...</td>\n",
              "      <td>3 พฤศจิกายน 2021</td>\n",
              "      <td>ในวันที่ 1 พฤศจิกายน 2564 ที่ผ่านมา นายกรัฐมนต...</td>\n",
              "    </tr>\n",
              "    <tr>\n",
              "      <th>768</th>\n",
              "      <td>จับตา ‘เทรนด์แห่งอนาคต’ ที่จะเกิดขึ้นหลังการเป...</td>\n",
              "      <td>3 พฤศจิกายน 2021</td>\n",
              "      <td>นับตั้งแต่ Lotus’s รีแบรนด์ปรับโฉมร้านค้าให้มี...</td>\n",
              "    </tr>\n",
              "    <tr>\n",
              "      <th>769</th>\n",
              "      <td>อีลอน มัสก์ ออกมาทวีต Tesla ยังไม่ได้เซ็นสัญญา...</td>\n",
              "      <td>3 พฤศจิกายน 2021</td>\n",
              "      <td>หุ้น Tesla ผู้ผลิตรถยนต์ไฟฟ้าชั้นนำของสหรัฐฯ ป...</td>\n",
              "    </tr>\n",
              "  </tbody>\n",
              "</table>\n",
              "<p>770 rows × 3 columns</p>\n",
              "</div>\n",
              "      <button class=\"colab-df-convert\" onclick=\"convertToInteractive('df-f3ef4345-ac00-4db9-af21-a2f551971c33')\"\n",
              "              title=\"Convert this dataframe to an interactive table.\"\n",
              "              style=\"display:none;\">\n",
              "        \n",
              "  <svg xmlns=\"http://www.w3.org/2000/svg\" height=\"24px\"viewBox=\"0 0 24 24\"\n",
              "       width=\"24px\">\n",
              "    <path d=\"M0 0h24v24H0V0z\" fill=\"none\"/>\n",
              "    <path d=\"M18.56 5.44l.94 2.06.94-2.06 2.06-.94-2.06-.94-.94-2.06-.94 2.06-2.06.94zm-11 1L8.5 8.5l.94-2.06 2.06-.94-2.06-.94L8.5 2.5l-.94 2.06-2.06.94zm10 10l.94 2.06.94-2.06 2.06-.94-2.06-.94-.94-2.06-.94 2.06-2.06.94z\"/><path d=\"M17.41 7.96l-1.37-1.37c-.4-.4-.92-.59-1.43-.59-.52 0-1.04.2-1.43.59L10.3 9.45l-7.72 7.72c-.78.78-.78 2.05 0 2.83L4 21.41c.39.39.9.59 1.41.59.51 0 1.02-.2 1.41-.59l7.78-7.78 2.81-2.81c.8-.78.8-2.07 0-2.86zM5.41 20L4 18.59l7.72-7.72 1.47 1.35L5.41 20z\"/>\n",
              "  </svg>\n",
              "      </button>\n",
              "      \n",
              "  <style>\n",
              "    .colab-df-container {\n",
              "      display:flex;\n",
              "      flex-wrap:wrap;\n",
              "      gap: 12px;\n",
              "    }\n",
              "\n",
              "    .colab-df-convert {\n",
              "      background-color: #E8F0FE;\n",
              "      border: none;\n",
              "      border-radius: 50%;\n",
              "      cursor: pointer;\n",
              "      display: none;\n",
              "      fill: #1967D2;\n",
              "      height: 32px;\n",
              "      padding: 0 0 0 0;\n",
              "      width: 32px;\n",
              "    }\n",
              "\n",
              "    .colab-df-convert:hover {\n",
              "      background-color: #E2EBFA;\n",
              "      box-shadow: 0px 1px 2px rgba(60, 64, 67, 0.3), 0px 1px 3px 1px rgba(60, 64, 67, 0.15);\n",
              "      fill: #174EA6;\n",
              "    }\n",
              "\n",
              "    [theme=dark] .colab-df-convert {\n",
              "      background-color: #3B4455;\n",
              "      fill: #D2E3FC;\n",
              "    }\n",
              "\n",
              "    [theme=dark] .colab-df-convert:hover {\n",
              "      background-color: #434B5C;\n",
              "      box-shadow: 0px 1px 3px 1px rgba(0, 0, 0, 0.15);\n",
              "      filter: drop-shadow(0px 1px 2px rgba(0, 0, 0, 0.3));\n",
              "      fill: #FFFFFF;\n",
              "    }\n",
              "  </style>\n",
              "\n",
              "      <script>\n",
              "        const buttonEl =\n",
              "          document.querySelector('#df-f3ef4345-ac00-4db9-af21-a2f551971c33 button.colab-df-convert');\n",
              "        buttonEl.style.display =\n",
              "          google.colab.kernel.accessAllowed ? 'block' : 'none';\n",
              "\n",
              "        async function convertToInteractive(key) {\n",
              "          const element = document.querySelector('#df-f3ef4345-ac00-4db9-af21-a2f551971c33');\n",
              "          const dataTable =\n",
              "            await google.colab.kernel.invokeFunction('convertToInteractive',\n",
              "                                                     [key], {});\n",
              "          if (!dataTable) return;\n",
              "\n",
              "          const docLinkHtml = 'Like what you see? Visit the ' +\n",
              "            '<a target=\"_blank\" href=https://colab.research.google.com/notebooks/data_table.ipynb>data table notebook</a>'\n",
              "            + ' to learn more about interactive tables.';\n",
              "          element.innerHTML = '';\n",
              "          dataTable['output_type'] = 'display_data';\n",
              "          await google.colab.output.renderOutput(dataTable, element);\n",
              "          const docLink = document.createElement('div');\n",
              "          docLink.innerHTML = docLinkHtml;\n",
              "          element.appendChild(docLink);\n",
              "        }\n",
              "      </script>\n",
              "    </div>\n",
              "  </div>\n",
              "  "
            ],
            "text/plain": [
              "                                                 title              date  \\\n",
              "0    Toyota เคาะราคาขาย รถยนต์ไฟฟ้า Toyota bZ4X 1,8...  9 พฤศจิกายน 2022   \n",
              "1    เปิดเงื่อนไขซื้อ ‘รถยนต์ไฟฟ้า’ รัฐบาลช่วยจ่ายเ...  3 พฤศจิกายน 2022   \n",
              "2    ชมคลิป: แบรนด์ รถยนต์ไฟฟ้า จีนรุกหนักทั่วโลก ไ...  3 พฤศจิกายน 2022   \n",
              "3    ‘ทีเอ็มบีธนชาต’ ผนึก ‘ธนชาตประกันภัย’ เปิดตัวป...  2 พฤศจิกายน 2022   \n",
              "4    ‘Tesla’ ประกาศหั่นราคาขายในตลาดจีน 9% กูรูหวั่...    25 ตุลาคม 2022   \n",
              "..                                                 ...               ...   \n",
              "765  เป็นแค่ ‘ปั๊มน้ำมัน’ ทำไม! OR คิดการใหญ่ วางแผ...  5 พฤศจิกายน 2021   \n",
              "766  ชมคลิป: เราจะได้เป็นเจ้าของ EV จริงๆ ใช่ไหม หั...  4 พฤศจิกายน 2021   \n",
              "767  Net Zero Emissions: ถอดรหัสถ้อยแถลงของรัฐบาลไท...  3 พฤศจิกายน 2021   \n",
              "768  จับตา ‘เทรนด์แห่งอนาคต’ ที่จะเกิดขึ้นหลังการเป...  3 พฤศจิกายน 2021   \n",
              "769  อีลอน มัสก์ ออกมาทวีต Tesla ยังไม่ได้เซ็นสัญญา...  3 พฤศจิกายน 2021   \n",
              "\n",
              "                                                detail  \n",
              "0    Toyota ประเทศไทย ได้ประกาศขาย รถยนต์ไฟฟ้า รุ่น...  \n",
              "1    เงื่อนไขการซื้อรถยนต์ไฟฟ้าในประเทศ หลังรัฐบาลส...  \n",
              "2    การแข่งขันในอุตสาหกรรม รถยนต์ไฟฟ้า ยานยนต์ไฟฟ้...  \n",
              "3    ทีเอ็มบีธนชาตจับมือธนชาตประกันภัย รุกตลาดแบงก์...  \n",
              "4    Tesla ผู้ผลิตรถยนต์ไฟฟ้าชั้นนำสัญชาติสหรัฐฯ ปร...  \n",
              "..                                                 ...  \n",
              "765  OR บริษัทรัฐวิสาหกิจยักษ์ใหญ่ด้านพลังงานและการ...  \n",
              "766  ราคาจำหน่ายไม่ใช่แค่ปัจจัยสำคัญเพียงอย่างเดียว...  \n",
              "767  ในวันที่ 1 พฤศจิกายน 2564 ที่ผ่านมา นายกรัฐมนต...  \n",
              "768  นับตั้งแต่ Lotus’s รีแบรนด์ปรับโฉมร้านค้าให้มี...  \n",
              "769  หุ้น Tesla ผู้ผลิตรถยนต์ไฟฟ้าชั้นนำของสหรัฐฯ ป...  \n",
              "\n",
              "[770 rows x 3 columns]"
            ]
          },
          "execution_count": 52,
          "metadata": {},
          "output_type": "execute_result"
        }
      ],
      "source": [
        "table.columns = ['title', 'date', 'detail']\n",
        "table"
      ]
    },
    {
      "cell_type": "code",
      "execution_count": 54,
      "metadata": {
        "id": "9TVZo6FcA_6U"
      },
      "outputs": [],
      "source": [
        "table.to_csv('ev_news.csv',encoding=\"utf-8-sig\")"
      ]
    },
    {
      "cell_type": "markdown",
      "metadata": {},
      "source": [
        "# Upload data to DataPlatform"
      ]
    },
    {
      "cell_type": "code",
      "execution_count": null,
      "metadata": {
        "id": "A2WunwkDXLc6"
      },
      "outputs": [],
      "source": [
        "from dsmlibrary.datanode import DataNode"
      ]
    },
    {
      "cell_type": "code",
      "execution_count": null,
      "metadata": {},
      "outputs": [],
      "source": [
        "dir_raw_id = 41"
      ]
    },
    {
      "cell_type": "code",
      "execution_count": null,
      "metadata": {},
      "outputs": [],
      "source": [
        "datanode = DataNode()"
      ]
    },
    {
      "cell_type": "code",
      "execution_count": null,
      "metadata": {},
      "outputs": [],
      "source": [
        "datanode.upload_file(directory_id=dir_raw_id, file_path='ev_news.csv')"
      ]
    }
  ],
  "metadata": {
    "colab": {
      "collapsed_sections": [],
      "provenance": []
    },
    "kernelspec": {
      "display_name": "Python 3",
      "name": "python3"
    },
    "language_info": {
      "name": "python"
    }
  },
  "nbformat": 4,
  "nbformat_minor": 0
}
