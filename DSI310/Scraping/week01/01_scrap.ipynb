{
 "cells": [
  {
   "cell_type": "code",
   "execution_count": 1,
   "metadata": {},
   "outputs": [
    {
     "name": "stderr",
     "output_type": "stream",
     "text": [
      "/usr/local/Caskroom/miniconda/base/envs/310/lib/python3.9/site-packages/tqdm/auto.py:22: TqdmWarning: IProgress not found. Please update jupyter and ipywidgets. See https://ipywidgets.readthedocs.io/en/stable/user_install.html\n",
      "  from .autonotebook import tqdm as notebook_tqdm\n"
     ]
    }
   ],
   "source": [
    "import json\n",
    "from urllib.request import urlopen\n",
    "import pandas as pd\n",
    "import requests\n",
    "from tqdm.auto import tqdm"
   ]
  },
  {
   "cell_type": "code",
   "execution_count": 2,
   "metadata": {},
   "outputs": [],
   "source": [
    "url = \"https://data.thaiauto.or.th/statistic/get-data/stat-register-light-duty-vehicle.php\"\n",
    "headers={\n",
    "    \"origin\": \"data.thaiauto.or.th\",\n",
    "    \"referer\" : \"https://data.thaiauto.or.th/statistic/rout-stat-register.php?type=light_duty_vehicle\",\n",
    "    \"user-agent\": \"Mozilla/5.0 (Windows NT 10.0; Win64; x64) AppleWebKit/537.36 (KHTML, like Gecko) Chrome/105.0.0.0 Safari/537.36\",\n",
    "    \"Content-Type\": \"application/x-www-form-urlencoded; charset=UTF-8\",\n",
    "    \"Content-Length\": \"2016\",\n",
    "}\n"
   ]
  },
  {
   "cell_type": "code",
   "execution_count": 3,
   "metadata": {},
   "outputs": [
    {
     "name": "stderr",
     "output_type": "stream",
     "text": [
      "100%|█████████████████████████████████████████████| 4/4 [00:19<00:00,  4.77s/it]\n"
     ]
    }
   ],
   "source": [
    "sumdata = []\n",
    "for year in tqdm(range(2019,2023)):\n",
    "  for month in range(1,13):\n",
    "    payload = {\n",
    "        \"start\":0,\n",
    "        \"length\":100,\n",
    "        \"ref_year\":year,\n",
    "        \"month\": month,\n",
    "        \"type\":\"all\",\n",
    "        }\n",
    "    response = requests.post(url, data=payload, headers=headers)  \n",
    "    decoded_data = response.text.encode().decode('utf-8-sig')\n",
    "    data = json.loads(decoded_data)\n",
    "    data['data'].pop()\n",
    "    sumdata = sumdata + data['data']"
   ]
  },
  {
   "cell_type": "code",
   "execution_count": 4,
   "metadata": {},
   "outputs": [
    {
     "data": {
      "text/plain": [
       "[[1, 2019, 'มกราคม', 'ALFA', '0', '0', '0', '0', '0'],\n",
       " [2, 2019, 'มกราคม', 'ALFA ROMEO', '0', '0', '0', '0', '0'],\n",
       " [3, 2019, 'มกราคม', 'ASTON MARTIN', '0', '0', '0', '0', '0'],\n",
       " [4, 2019, 'มกราคม', 'AUDI', '37', '13', '0', '0', '50'],\n",
       " [5, 2019, 'มกราคม', 'AUSTIN', '0', '0', '0', '0', '0'],\n",
       " [6, 2019, 'มกราคม', 'BENTLEY', '0', '2', '0', '0', '2'],\n",
       " [7, 2019, 'มกราคม', 'BMW', '795', '17', '0', '0', '812'],\n",
       " [8, 2019, 'มกราคม', 'BUICK', '0', '0', '0', '0', '0'],\n",
       " [9, 2019, 'มกราคม', 'CEC', '0', '0', '0', '0', '0'],\n",
       " [10, 2019, 'มกราคม', 'CHERY', '0', '0', '0', '0', '0']]"
      ]
     },
     "execution_count": 4,
     "metadata": {},
     "output_type": "execute_result"
    }
   ],
   "source": [
    "sumdata[0:10]"
   ]
  },
  {
   "cell_type": "code",
   "execution_count": 5,
   "metadata": {},
   "outputs": [
    {
     "name": "stdout",
     "output_type": "stream",
     "text": [
      "Total rows : 3551\n"
     ]
    }
   ],
   "source": [
    "print(f\"Total rows : {len(sumdata)}\")"
   ]
  },
  {
   "cell_type": "code",
   "execution_count": 6,
   "metadata": {},
   "outputs": [],
   "source": [
    "column = [\"id\",\"year\",\"month\",\"brand\",\">=2000cc\",\"<2000cc\",\"BEV\",\"Notspecfic\",\"Total\"]\n",
    "df = pd.DataFrame(sumdata, columns = column)"
   ]
  },
  {
   "cell_type": "code",
   "execution_count": 7,
   "metadata": {},
   "outputs": [
    {
     "data": {
      "text/html": [
       "<div>\n",
       "<style scoped>\n",
       "    .dataframe tbody tr th:only-of-type {\n",
       "        vertical-align: middle;\n",
       "    }\n",
       "\n",
       "    .dataframe tbody tr th {\n",
       "        vertical-align: top;\n",
       "    }\n",
       "\n",
       "    .dataframe thead th {\n",
       "        text-align: right;\n",
       "    }\n",
       "</style>\n",
       "<table border=\"1\" class=\"dataframe\">\n",
       "  <thead>\n",
       "    <tr style=\"text-align: right;\">\n",
       "      <th></th>\n",
       "      <th>id</th>\n",
       "      <th>year</th>\n",
       "      <th>month</th>\n",
       "      <th>brand</th>\n",
       "      <th>&gt;=2000cc</th>\n",
       "      <th>&lt;2000cc</th>\n",
       "      <th>BEV</th>\n",
       "      <th>Notspecfic</th>\n",
       "      <th>Total</th>\n",
       "    </tr>\n",
       "  </thead>\n",
       "  <tbody>\n",
       "    <tr>\n",
       "      <th>0</th>\n",
       "      <td>1</td>\n",
       "      <td>2019</td>\n",
       "      <td>มกราคม</td>\n",
       "      <td>ALFA</td>\n",
       "      <td>0</td>\n",
       "      <td>0</td>\n",
       "      <td>0</td>\n",
       "      <td>0</td>\n",
       "      <td>0</td>\n",
       "    </tr>\n",
       "    <tr>\n",
       "      <th>1</th>\n",
       "      <td>2</td>\n",
       "      <td>2019</td>\n",
       "      <td>มกราคม</td>\n",
       "      <td>ALFA ROMEO</td>\n",
       "      <td>0</td>\n",
       "      <td>0</td>\n",
       "      <td>0</td>\n",
       "      <td>0</td>\n",
       "      <td>0</td>\n",
       "    </tr>\n",
       "    <tr>\n",
       "      <th>2</th>\n",
       "      <td>3</td>\n",
       "      <td>2019</td>\n",
       "      <td>มกราคม</td>\n",
       "      <td>ASTON MARTIN</td>\n",
       "      <td>0</td>\n",
       "      <td>0</td>\n",
       "      <td>0</td>\n",
       "      <td>0</td>\n",
       "      <td>0</td>\n",
       "    </tr>\n",
       "    <tr>\n",
       "      <th>3</th>\n",
       "      <td>4</td>\n",
       "      <td>2019</td>\n",
       "      <td>มกราคม</td>\n",
       "      <td>AUDI</td>\n",
       "      <td>37</td>\n",
       "      <td>13</td>\n",
       "      <td>0</td>\n",
       "      <td>0</td>\n",
       "      <td>50</td>\n",
       "    </tr>\n",
       "    <tr>\n",
       "      <th>4</th>\n",
       "      <td>5</td>\n",
       "      <td>2019</td>\n",
       "      <td>มกราคม</td>\n",
       "      <td>AUSTIN</td>\n",
       "      <td>0</td>\n",
       "      <td>0</td>\n",
       "      <td>0</td>\n",
       "      <td>0</td>\n",
       "      <td>0</td>\n",
       "    </tr>\n",
       "    <tr>\n",
       "      <th>5</th>\n",
       "      <td>6</td>\n",
       "      <td>2019</td>\n",
       "      <td>มกราคม</td>\n",
       "      <td>BENTLEY</td>\n",
       "      <td>0</td>\n",
       "      <td>2</td>\n",
       "      <td>0</td>\n",
       "      <td>0</td>\n",
       "      <td>2</td>\n",
       "    </tr>\n",
       "    <tr>\n",
       "      <th>6</th>\n",
       "      <td>7</td>\n",
       "      <td>2019</td>\n",
       "      <td>มกราคม</td>\n",
       "      <td>BMW</td>\n",
       "      <td>795</td>\n",
       "      <td>17</td>\n",
       "      <td>0</td>\n",
       "      <td>0</td>\n",
       "      <td>812</td>\n",
       "    </tr>\n",
       "    <tr>\n",
       "      <th>7</th>\n",
       "      <td>8</td>\n",
       "      <td>2019</td>\n",
       "      <td>มกราคม</td>\n",
       "      <td>BUICK</td>\n",
       "      <td>0</td>\n",
       "      <td>0</td>\n",
       "      <td>0</td>\n",
       "      <td>0</td>\n",
       "      <td>0</td>\n",
       "    </tr>\n",
       "    <tr>\n",
       "      <th>8</th>\n",
       "      <td>9</td>\n",
       "      <td>2019</td>\n",
       "      <td>มกราคม</td>\n",
       "      <td>CEC</td>\n",
       "      <td>0</td>\n",
       "      <td>0</td>\n",
       "      <td>0</td>\n",
       "      <td>0</td>\n",
       "      <td>0</td>\n",
       "    </tr>\n",
       "    <tr>\n",
       "      <th>9</th>\n",
       "      <td>10</td>\n",
       "      <td>2019</td>\n",
       "      <td>มกราคม</td>\n",
       "      <td>CHERY</td>\n",
       "      <td>0</td>\n",
       "      <td>0</td>\n",
       "      <td>0</td>\n",
       "      <td>0</td>\n",
       "      <td>0</td>\n",
       "    </tr>\n",
       "  </tbody>\n",
       "</table>\n",
       "</div>"
      ],
      "text/plain": [
       "   id  year   month         brand >=2000cc <2000cc BEV Notspecfic Total\n",
       "0   1  2019  มกราคม          ALFA        0       0   0          0     0\n",
       "1   2  2019  มกราคม    ALFA ROMEO        0       0   0          0     0\n",
       "2   3  2019  มกราคม  ASTON MARTIN        0       0   0          0     0\n",
       "3   4  2019  มกราคม          AUDI       37      13   0          0    50\n",
       "4   5  2019  มกราคม        AUSTIN        0       0   0          0     0\n",
       "5   6  2019  มกราคม       BENTLEY        0       2   0          0     2\n",
       "6   7  2019  มกราคม           BMW      795      17   0          0   812\n",
       "7   8  2019  มกราคม         BUICK        0       0   0          0     0\n",
       "8   9  2019  มกราคม           CEC        0       0   0          0     0\n",
       "9  10  2019  มกราคม         CHERY        0       0   0          0     0"
      ]
     },
     "execution_count": 7,
     "metadata": {},
     "output_type": "execute_result"
    }
   ],
   "source": [
    "df.head(10)"
   ]
  },
  {
   "cell_type": "code",
   "execution_count": null,
   "metadata": {},
   "outputs": [],
   "source": [
    "df.to_csv('thaiauto.csv',encoding=\"utf-8-sig\")"
   ]
  },
  {
   "cell_type": "markdown",
   "metadata": {},
   "source": [
    "# Upload data to DataPlatform"
   ]
  },
  {
   "cell_type": "code",
   "execution_count": null,
   "metadata": {},
   "outputs": [],
   "source": [
    "from dsmlibrary.datanode import DataNode"
   ]
  },
  {
   "cell_type": "code",
   "execution_count": null,
   "metadata": {},
   "outputs": [],
   "source": [
    "dir_raw_id = 41"
   ]
  },
  {
   "cell_type": "code",
   "execution_count": null,
   "metadata": {},
   "outputs": [],
   "source": [
    "datanode = DataNode()"
   ]
  },
  {
   "cell_type": "code",
   "execution_count": null,
   "metadata": {},
   "outputs": [],
   "source": [
    "datanode.upload_file(directory_id=dir_raw_id, file_path='thaiauto.csv')"
   ]
  }
 ],
 "metadata": {
  "kernelspec": {
   "display_name": "Python 3 (ipykernel)",
   "language": "python",
   "name": "python3"
  },
  "language_info": {
   "codemirror_mode": {
    "name": "ipython",
    "version": 3
   },
   "file_extension": ".py",
   "mimetype": "text/x-python",
   "name": "python",
   "nbconvert_exporter": "python",
   "pygments_lexer": "ipython3",
   "version": "3.9.6"
  },
  "vscode": {
   "interpreter": {
    "hash": "9ca530cb7ec9b7f2f6d9ec590d8d059fd0f47f525a2466e9dc1fbf08103c23c0"
   }
  }
 },
 "nbformat": 4,
 "nbformat_minor": 2
}
