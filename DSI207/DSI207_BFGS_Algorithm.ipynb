{
  "nbformat": 4,
  "nbformat_minor": 0,
  "metadata": {
    "colab": {
      "name": "DSI207-BFGS Algorithm",
      "provenance": []
    },
    "kernelspec": {
      "name": "python3",
      "display_name": "Python 3"
    },
    "language_info": {
      "name": "python"
    }
  },
  "cells": [
    {
      "cell_type": "markdown",
      "source": [
        "# BFGS Algorithm"
      ],
      "metadata": {
        "id": "ngVKYj_ra1L1"
      }
    },
    {
      "cell_type": "markdown",
      "source": [
        "## Gradient Descent"
      ],
      "metadata": {
        "id": "dW-LY2BTBfBP"
      }
    },
    {
      "cell_type": "code",
      "source": [
        "# example of plotting a gradient descent search on a one-dimensional function\n",
        "from numpy import asarray\n",
        "from numpy import arange\n",
        "from numpy.random import rand\n",
        "from matplotlib import pyplot\n",
        "\n",
        "# objective function\n",
        "def objective(x):\n",
        "  return x**2.0\n",
        "\n",
        "# derivative of objective function\n",
        "def derivative(x):\n",
        "  return x * 2.0"
      ],
      "metadata": {
        "id": "lvzdsVqWaKm9"
      },
      "execution_count": null,
      "outputs": []
    },
    {
      "cell_type": "code",
      "source": [
        "# gradient descent algorithm\n",
        "def gradient_descent(objective, derivative, bounds, n_iter, step_size):\n",
        "  solutions, scores = list(), list()\n",
        "  solution = bounds[:, 0] + rand(len(bounds)) * (bounds[:, 1] - bounds[:, 0])\n",
        "  \n",
        "  for i in range(n_iter):\n",
        "    gradient = derivative(solution)\n",
        "    solution = solution - step_size * gradient\n",
        "    solution_eval = objective(solution)\n",
        "    solutions.append(solution)\n",
        "    scores.append(solution_eval)\n",
        "    print('>%d f(%s) = %.5f' % (i, solution, solution_eval))\n",
        "  return [solutions, scores]"
      ],
      "metadata": {
        "id": "dXaJGqljCKal"
      },
      "execution_count": null,
      "outputs": []
    },
    {
      "cell_type": "code",
      "source": [
        "# define range for input\n",
        "bounds = asarray([[-1.0, 1.0]])\n",
        "n_iter = 30\n",
        "step_size = 0.1\n",
        "solutions, scores = gradient_descent(objective, derivative, bounds, n_iter, step_size)\n",
        "inputs = arange(bounds[0,0], bounds[0,1]+0.1, 0.1)\n",
        "results = objective(inputs)\n",
        "pyplot.plot(inputs, results)\n",
        "pyplot.plot(solutions, scores, '.-', color='red')\n",
        "pyplot.show() "
      ],
      "metadata": {
        "id": "Z3beTgBqbTyB",
        "colab": {
          "base_uri": "https://localhost:8080/",
          "height": 819
        },
        "outputId": "91373f77-2f04-4ef6-a0c2-7735f6f8fac8"
      },
      "execution_count": null,
      "outputs": [
        {
          "output_type": "stream",
          "name": "stdout",
          "text": [
            ">0 f([0.52878124]) = 0.27961\n",
            ">1 f([0.42302499]) = 0.17895\n",
            ">2 f([0.33841999]) = 0.11453\n",
            ">3 f([0.270736]) = 0.07330\n",
            ">4 f([0.2165888]) = 0.04691\n",
            ">5 f([0.17327104]) = 0.03002\n",
            ">6 f([0.13861683]) = 0.01921\n",
            ">7 f([0.11089346]) = 0.01230\n",
            ">8 f([0.08871477]) = 0.00787\n",
            ">9 f([0.07097182]) = 0.00504\n",
            ">10 f([0.05677745]) = 0.00322\n",
            ">11 f([0.04542196]) = 0.00206\n",
            ">12 f([0.03633757]) = 0.00132\n",
            ">13 f([0.02907006]) = 0.00085\n",
            ">14 f([0.02325604]) = 0.00054\n",
            ">15 f([0.01860484]) = 0.00035\n",
            ">16 f([0.01488387]) = 0.00022\n",
            ">17 f([0.0119071]) = 0.00014\n",
            ">18 f([0.00952568]) = 0.00009\n",
            ">19 f([0.00762054]) = 0.00006\n",
            ">20 f([0.00609643]) = 0.00004\n",
            ">21 f([0.00487715]) = 0.00002\n",
            ">22 f([0.00390172]) = 0.00002\n",
            ">23 f([0.00312137]) = 0.00001\n",
            ">24 f([0.0024971]) = 0.00001\n",
            ">25 f([0.00199768]) = 0.00000\n",
            ">26 f([0.00159814]) = 0.00000\n",
            ">27 f([0.00127851]) = 0.00000\n",
            ">28 f([0.00102281]) = 0.00000\n",
            ">29 f([0.00081825]) = 0.00000\n"
          ]
        },
        {
          "output_type": "display_data",
          "data": {
            "text/plain": [
              "<Figure size 432x288 with 1 Axes>"
            ],
            "image/png": "[encoded data removed]"
          },
          "metadata": {
            "needs_background": "light"
          }
        }
      ]
    },
    {
      "cell_type": "markdown",
      "source": [
        "## Newton's Method"
      ],
      "metadata": {
        "id": "rMjZzSt_bdpb"
      }
    },
    {
      "cell_type": "code",
      "source": [
        "def newton_method(objective, derivative, bounds, n_iter, second_derivative):\n",
        "  solutions, scores = list(), list()\n",
        "  solution = bounds[:, 0] + rand(len(bounds)) * (bounds[:, 1] - bounds[:, 0])\n",
        "\n",
        "  for i in range(n_iter):\n",
        "    gradient = derivative(solution)\n",
        "    hessian = second_derivative(solution)\n",
        "    solution = solution - gradient/hessian\n",
        "    solution_eval = objective(solution)\n",
        "    solutions.append(solution)\n",
        "    scores.append(solution_eval)\n",
        "    print('>%d f(%s) = %.5f' % (i, solution, solution_eval))\n",
        "  return [solutions, scores]"
      ],
      "metadata": {
        "id": "68q_P394bgD3"
      },
      "execution_count": null,
      "outputs": []
    },
    {
      "cell_type": "code",
      "source": [
        "bounds = asarray([[-1.0, 2.0]])\n",
        "n_iter = 30\n",
        "step_size = 0.1\n",
        "solutions, scores = newton_method(objective, derivative, bounds, n_iter, second_derivative)\n",
        "inputs = arange(bounds[0,0], bounds[0,1]+0.1, 0.1)\n",
        "results = objective(inputs)\n",
        "pyplot.plot(inputs, results)\n",
        "pyplot.plot(solutions, scores, '.-', color='red')\n",
        "pyplot.show()"
      ],
      "metadata": {
        "id": "ixFTONAhjV3I",
        "colab": {
          "base_uri": "https://localhost:8080/",
          "height": 246
        },
        "outputId": "70509b58-5faa-4569-b502-db0c72951d4e"
      },
      "execution_count": null,
      "outputs": [
        {
          "output_type": "error",
          "ename": "NameError",
          "evalue": "ignored",
          "traceback": [
            "\u001b[0;31m---------------------------------------------------------------------------\u001b[0m",
            "\u001b[0;31mNameError\u001b[0m                                 Traceback (most recent call last)",
            "\u001b[0;32m<ipython-input-11-ae443474ff2a>\u001b[0m in \u001b[0;36m<module>\u001b[0;34m()\u001b[0m\n\u001b[1;32m      2\u001b[0m \u001b[0mn_iter\u001b[0m \u001b[0;34m=\u001b[0m \u001b[0;36m30\u001b[0m\u001b[0;34m\u001b[0m\u001b[0;34m\u001b[0m\u001b[0m\n\u001b[1;32m      3\u001b[0m \u001b[0mstep_size\u001b[0m \u001b[0;34m=\u001b[0m \u001b[0;36m0.1\u001b[0m\u001b[0;34m\u001b[0m\u001b[0;34m\u001b[0m\u001b[0m\n\u001b[0;32m----> 4\u001b[0;31m \u001b[0msolutions\u001b[0m\u001b[0;34m,\u001b[0m \u001b[0mscores\u001b[0m \u001b[0;34m=\u001b[0m \u001b[0mnewton_method\u001b[0m\u001b[0;34m(\u001b[0m\u001b[0mobjective\u001b[0m\u001b[0;34m,\u001b[0m \u001b[0mderivative\u001b[0m\u001b[0;34m,\u001b[0m \u001b[0mbounds\u001b[0m\u001b[0;34m,\u001b[0m \u001b[0mn_iter\u001b[0m\u001b[0;34m,\u001b[0m \u001b[0msecond_derivative\u001b[0m\u001b[0;34m)\u001b[0m\u001b[0;34m\u001b[0m\u001b[0;34m\u001b[0m\u001b[0m\n\u001b[0m\u001b[1;32m      5\u001b[0m \u001b[0minputs\u001b[0m \u001b[0;34m=\u001b[0m \u001b[0marange\u001b[0m\u001b[0;34m(\u001b[0m\u001b[0mbounds\u001b[0m\u001b[0;34m[\u001b[0m\u001b[0;36m0\u001b[0m\u001b[0;34m,\u001b[0m\u001b[0;36m0\u001b[0m\u001b[0;34m]\u001b[0m\u001b[0;34m,\u001b[0m \u001b[0mbounds\u001b[0m\u001b[0;34m[\u001b[0m\u001b[0;36m0\u001b[0m\u001b[0;34m,\u001b[0m\u001b[0;36m1\u001b[0m\u001b[0;34m]\u001b[0m\u001b[0;34m+\u001b[0m\u001b[0;36m0.1\u001b[0m\u001b[0;34m,\u001b[0m \u001b[0;36m0.1\u001b[0m\u001b[0;34m)\u001b[0m\u001b[0;34m\u001b[0m\u001b[0;34m\u001b[0m\u001b[0m\n\u001b[1;32m      6\u001b[0m \u001b[0mresults\u001b[0m \u001b[0;34m=\u001b[0m \u001b[0mobjective\u001b[0m\u001b[0;34m(\u001b[0m\u001b[0minputs\u001b[0m\u001b[0;34m)\u001b[0m\u001b[0;34m\u001b[0m\u001b[0;34m\u001b[0m\u001b[0m\n",
            "\u001b[0;31mNameError\u001b[0m: name 'second_derivative' is not defined"
          ]
        }
      ]
    },
    {
      "cell_type": "markdown",
      "source": [
        "## BFGS Algorithm"
      ],
      "metadata": {
        "id": "TuHOhub6bgok"
      }
    },
    {
      "cell_type": "code",
      "source": [
        "from scipy.optimize import minimize\n",
        "from numpy.random import rand\n",
        "\n",
        "def objective(x):\n",
        "  return x[0]**2.0 + x[1]**2.0\n",
        "\n",
        "def derivative(x):\n",
        "  return [x[0] * 2, x[1] * 2]\n",
        "\n",
        "r_min, r_max = -5.0, 5.0\n",
        "pt = r_min + rand(2) * (r_max - r_min)\n",
        "result = minimize(objective, pt, method='BFGS', jac=derivative)\n",
        "\n",
        "print('Status : %s' % result['message'])\n",
        "print('Total Evaluations: %d' % result['nfev'])\n",
        "\n",
        "solution = result['x']\n",
        "evaluation = objective(solution)\n",
        "print('Solution: f(%s) = %.5f' % (solution, evaluation))"
      ],
      "metadata": {
        "id": "3ZaHNWOfbi5v",
        "colab": {
          "base_uri": "https://localhost:8080/",
          "height": 399
        },
        "outputId": "82a09e9f-3951-4643-fd4a-6970fc6f750a"
      },
      "execution_count": null,
      "outputs": [
        {
          "output_type": "error",
          "ename": "TypeError",
          "evalue": "ignored",
          "traceback": [
            "\u001b[0;31m---------------------------------------------------------------------------\u001b[0m",
            "\u001b[0;31mTypeError\u001b[0m                                 Traceback (most recent call last)",
            "\u001b[0;32m<ipython-input-12-5d22ad5dd819>\u001b[0m in \u001b[0;36m<module>\u001b[0;34m()\u001b[0m\n\u001b[1;32m     10\u001b[0m \u001b[0mr_min\u001b[0m\u001b[0;34m,\u001b[0m \u001b[0mr_max\u001b[0m \u001b[0;34m=\u001b[0m \u001b[0;34m-\u001b[0m\u001b[0;36m5.0\u001b[0m\u001b[0;34m,\u001b[0m \u001b[0;36m5.0\u001b[0m\u001b[0;34m\u001b[0m\u001b[0;34m\u001b[0m\u001b[0m\n\u001b[1;32m     11\u001b[0m \u001b[0mpt\u001b[0m \u001b[0;34m=\u001b[0m \u001b[0mr_min\u001b[0m \u001b[0;34m+\u001b[0m \u001b[0mrand\u001b[0m\u001b[0;34m(\u001b[0m\u001b[0;36m2\u001b[0m\u001b[0;34m)\u001b[0m \u001b[0;34m*\u001b[0m \u001b[0;34m(\u001b[0m\u001b[0mr_max\u001b[0m \u001b[0;34m-\u001b[0m \u001b[0mr_min\u001b[0m\u001b[0;34m)\u001b[0m\u001b[0;34m\u001b[0m\u001b[0;34m\u001b[0m\u001b[0m\n\u001b[0;32m---> 12\u001b[0;31m \u001b[0mresult\u001b[0m \u001b[0;34m=\u001b[0m \u001b[0mminimize\u001b[0m\u001b[0;34m(\u001b[0m\u001b[0mobjective\u001b[0m\u001b[0;34m,\u001b[0m \u001b[0mpt\u001b[0m\u001b[0;34m,\u001b[0m \u001b[0mmethod\u001b[0m\u001b[0;34m=\u001b[0m\u001b[0;34m'BFGS'\u001b[0m\u001b[0;34m,\u001b[0m \u001b[0mjac\u001b[0m\u001b[0;34m=\u001b[0m\u001b[0mderivative\u001b[0m\u001b[0;34m)\u001b[0m\u001b[0;34m\u001b[0m\u001b[0;34m\u001b[0m\u001b[0m\n\u001b[0m\u001b[1;32m     13\u001b[0m \u001b[0;34m\u001b[0m\u001b[0m\n\u001b[1;32m     14\u001b[0m \u001b[0mprint\u001b[0m\u001b[0;34m(\u001b[0m\u001b[0;34m'Status : %s'\u001b[0m \u001b[0;34m%\u001b[0m \u001b[0mresult\u001b[0m\u001b[0;34m[\u001b[0m\u001b[0;34m'message'\u001b[0m\u001b[0;34m]\u001b[0m\u001b[0;34m)\u001b[0m\u001b[0;34m\u001b[0m\u001b[0;34m\u001b[0m\u001b[0m\n",
            "\u001b[0;32m/usr/local/lib/python3.7/dist-packages/scipy/optimize/_minimize.py\u001b[0m in \u001b[0;36mminimize\u001b[0;34m(fun, x0, args, method, jac, hess, hessp, bounds, constraints, tol, callback, options)\u001b[0m\n\u001b[1;32m    602\u001b[0m         \u001b[0;32mreturn\u001b[0m \u001b[0m_minimize_cg\u001b[0m\u001b[0;34m(\u001b[0m\u001b[0mfun\u001b[0m\u001b[0;34m,\u001b[0m \u001b[0mx0\u001b[0m\u001b[0;34m,\u001b[0m \u001b[0margs\u001b[0m\u001b[0;34m,\u001b[0m \u001b[0mjac\u001b[0m\u001b[0;34m,\u001b[0m \u001b[0mcallback\u001b[0m\u001b[0;34m,\u001b[0m \u001b[0;34m**\u001b[0m\u001b[0moptions\u001b[0m\u001b[0;34m)\u001b[0m\u001b[0;34m\u001b[0m\u001b[0;34m\u001b[0m\u001b[0m\n\u001b[1;32m    603\u001b[0m     \u001b[0;32melif\u001b[0m \u001b[0mmeth\u001b[0m \u001b[0;34m==\u001b[0m \u001b[0;34m'bfgs'\u001b[0m\u001b[0;34m:\u001b[0m\u001b[0;34m\u001b[0m\u001b[0;34m\u001b[0m\u001b[0m\n\u001b[0;32m--> 604\u001b[0;31m         \u001b[0;32mreturn\u001b[0m \u001b[0m_minimize_bfgs\u001b[0m\u001b[0;34m(\u001b[0m\u001b[0mfun\u001b[0m\u001b[0;34m,\u001b[0m \u001b[0mx0\u001b[0m\u001b[0;34m,\u001b[0m \u001b[0margs\u001b[0m\u001b[0;34m,\u001b[0m \u001b[0mjac\u001b[0m\u001b[0;34m,\u001b[0m \u001b[0mcallback\u001b[0m\u001b[0;34m,\u001b[0m \u001b[0;34m**\u001b[0m\u001b[0moptions\u001b[0m\u001b[0;34m)\u001b[0m\u001b[0;34m\u001b[0m\u001b[0;34m\u001b[0m\u001b[0m\n\u001b[0m\u001b[1;32m    605\u001b[0m     \u001b[0;32melif\u001b[0m \u001b[0mmeth\u001b[0m \u001b[0;34m==\u001b[0m \u001b[0;34m'newton-cg'\u001b[0m\u001b[0;34m:\u001b[0m\u001b[0;34m\u001b[0m\u001b[0;34m\u001b[0m\u001b[0m\n\u001b[1;32m    606\u001b[0m         return _minimize_newtoncg(fun, x0, args, jac, hess, hessp, callback,\n",
            "\u001b[0;32m/usr/local/lib/python3.7/dist-packages/scipy/optimize/optimize.py\u001b[0m in \u001b[0;36m_minimize_bfgs\u001b[0;34m(fun, x0, args, jac, callback, gtol, norm, eps, maxiter, disp, return_all, **unknown_options)\u001b[0m\n\u001b[1;32m   1040\u001b[0m             \u001b[0mgfkp1\u001b[0m \u001b[0;34m=\u001b[0m \u001b[0mmyfprime\u001b[0m\u001b[0;34m(\u001b[0m\u001b[0mxkp1\u001b[0m\u001b[0;34m)\u001b[0m\u001b[0;34m\u001b[0m\u001b[0;34m\u001b[0m\u001b[0m\n\u001b[1;32m   1041\u001b[0m \u001b[0;34m\u001b[0m\u001b[0m\n\u001b[0;32m-> 1042\u001b[0;31m         \u001b[0myk\u001b[0m \u001b[0;34m=\u001b[0m \u001b[0mgfkp1\u001b[0m \u001b[0;34m-\u001b[0m \u001b[0mgfk\u001b[0m\u001b[0;34m\u001b[0m\u001b[0;34m\u001b[0m\u001b[0m\n\u001b[0m\u001b[1;32m   1043\u001b[0m         \u001b[0mgfk\u001b[0m \u001b[0;34m=\u001b[0m \u001b[0mgfkp1\u001b[0m\u001b[0;34m\u001b[0m\u001b[0;34m\u001b[0m\u001b[0m\n\u001b[1;32m   1044\u001b[0m         \u001b[0;32mif\u001b[0m \u001b[0mcallback\u001b[0m \u001b[0;32mis\u001b[0m \u001b[0;32mnot\u001b[0m \u001b[0;32mNone\u001b[0m\u001b[0;34m:\u001b[0m\u001b[0;34m\u001b[0m\u001b[0;34m\u001b[0m\u001b[0m\n",
            "\u001b[0;31mTypeError\u001b[0m: unsupported operand type(s) for -: 'list' and 'list'"
          ]
        }
      ]
    },
    {
      "cell_type": "code",
      "source": [
        ""
      ],
      "metadata": {
        "id": "S5clqbTKHUiu"
      },
      "execution_count": null,
      "outputs": []
    }
  ]
}