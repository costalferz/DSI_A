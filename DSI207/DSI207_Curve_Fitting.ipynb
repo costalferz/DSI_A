{
  "nbformat": 4,
  "nbformat_minor": 0,
  "metadata": {
    "colab": {
      "name": "DSI207-Curve Fitting ",
      "provenance": []
    },
    "kernelspec": {
      "name": "python3",
      "display_name": "Python 3"
    },
    "language_info": {
      "name": "python"
    }
  },
  "cells": [
    {
      "cell_type": "markdown",
      "source": [
        "# Curve Fitting"
      ],
      "metadata": {
        "id": "yuN_mgHWGHqh"
      }
    },
    {
      "cell_type": "markdown",
      "source": [
        "## 5.3.1 The data"
      ],
      "metadata": {
        "id": "a82TqOE_1402"
      }
    },
    {
      "cell_type": "code",
      "execution_count": null,
      "metadata": {
        "colab": {
          "base_uri": "https://localhost:8080/",
          "height": 265
        },
        "id": "w7RcZEDj11OK",
        "outputId": "a05b8c43-e172-441b-c01f-9c038ab8ae14"
      },
      "outputs": [
        {
          "output_type": "display_data",
          "data": {
            "text/plain": [
              "<Figure size 432x288 with 1 Axes>"
            ],
            "image/png": "[encoded data removed]"
          },
          "metadata": {
            "needs_background": "light"
          }
        }
      ],
      "source": [
        "from pandas import read_csv\n",
        "from matplotlib import pyplot\n",
        "\n",
        "url = 'http://raw.githubusercontent.com/jbrownlee/Datasets/master/longley.csv'\n",
        "dataframe = read_csv(url, header=None)\n",
        "data = dataframe.values\n",
        "\n",
        "x, y = data[:, 4], data[:, -1]\n",
        "\n",
        "pyplot.scatter(x, y)\n",
        "pyplot.show()"
      ]
    },
    {
      "cell_type": "markdown",
      "source": [
        "## 5.3.2 Basis Function (Mapping Function)"
      ],
      "metadata": {
        "id": "ghjOppmN2H0p"
      }
    },
    {
      "cell_type": "code",
      "source": [
        "def basis_function(x, a, b):\n",
        "  return a * x + b"
      ],
      "metadata": {
        "id": "B5kpibaZ2KRO"
      },
      "execution_count": null,
      "outputs": []
    },
    {
      "cell_type": "markdown",
      "source": [
        "## 5.3.3 Summarize the result"
      ],
      "metadata": {
        "id": "AsoEhIpX2S-y"
      }
    },
    {
      "cell_type": "code",
      "source": [
        "from scipy.optimize import curve_fit\n",
        "\n",
        "popt, _ = curve_fit(basis_function, x, y)\n",
        "\n",
        "a, b = popt\n",
        "print('y = %.5f * x + %.5f' % (a, b))"
      ],
      "metadata": {
        "colab": {
          "base_uri": "https://localhost:8080/"
        },
        "id": "KNkK8JBw2Vy7",
        "outputId": "4695dcd6-766d-45d2-cc82-de79f42b9646"
      },
      "execution_count": null,
      "outputs": [
        {
          "output_type": "stream",
          "name": "stdout",
          "text": [
            "y = 0.48488 * x + 8.38067\n"
          ]
        }
      ]
    },
    {
      "cell_type": "markdown",
      "source": [
        "## 5.3.4 Curve fitting with a straight line"
      ],
      "metadata": {
        "id": "8kyFNJ0Y2wWN"
      }
    },
    {
      "cell_type": "code",
      "source": [
        "from numpy import arange\n",
        "from pandas import read_csv\n",
        "from scipy.optimize import curve_fit\n",
        "from matplotlib import pyplot\n",
        "\n",
        "def basis_function(x, a, b):\n",
        "  return a * x + b\n",
        "\n",
        "url = 'http://raw.githubusercontent.com/jbrownlee/Datasets/master/longley.csv'\n",
        "dataframe = read_csv(url, header=None)\n",
        "data = dataframe.values\n",
        "\n",
        "x, y = data[:, 4], data[:, -1]\n",
        "\n",
        "popt, _ = curve_fit(basis_function, x, y)\n",
        "\n",
        "a, b = popt\n",
        "print('y = %.5f * x + %.5f' % (a, b))\n",
        "\n",
        "pyplot.scatter(x, y)\n",
        "x_line = arange(min(x), max(x), 1)\n",
        "y_line = basis_function(x_line, a, b)\n",
        "pyplot.plot(x_line, y_line, '--', color='red')\n",
        "pyplot.show()"
      ],
      "metadata": {
        "colab": {
          "base_uri": "https://localhost:8080/",
          "height": 282
        },
        "id": "NaRLYf852u8X",
        "outputId": "fbd58fe9-0cd6-46a5-e786-e0219c3afc66"
      },
      "execution_count": null,
      "outputs": [
        {
          "output_type": "stream",
          "name": "stdout",
          "text": [
            "y = 0.48488 * x + 8.38067\n"
          ]
        },
        {
          "output_type": "display_data",
          "data": {
            "text/plain": [
              "<Figure size 432x288 with 1 Axes>"
            ],
            "image/png": "[encoded data removed]"
          },
          "metadata": {
            "needs_background": "light"
          }
        }
      ]
    },
    {
      "cell_type": "markdown",
      "source": [
        "## 5.3.5 Curve fitting a quadratic function"
      ],
      "metadata": {
        "id": "7ypIjVpg294p"
      }
    },
    {
      "cell_type": "code",
      "source": [
        "from numpy import arange\n",
        "from pandas import read_csv\n",
        "from scipy.optimize import curve_fit\n",
        "from matplotlib import pyplot\n",
        "\n",
        "def basis_function(x, a, b, c):\n",
        "  return a * x + b * x**2 + c\n",
        "\n",
        "url = 'http://raw.githubusercontent.com/jbrownlee/Datasets/master/longley.csv'\n",
        "dataframe = read_csv(url, header=None)\n",
        "data = dataframe.values\n",
        "\n",
        "x, y = data[:, 4], data[:, -1]\n",
        "\n",
        "popt, _ = curve_fit(basis_function, x, y)\n",
        "\n",
        "a, b, c = popt\n",
        "print('y = %.5f * x + %.5f * x^2 + %.5f' % (a, b, c))\n",
        "\n",
        "pyplot.scatter(x, y)\n",
        "x_line = arange(min(x), max(x), 1)\n",
        "y_line = basis_function(x_line, a, b, c)\n",
        "pyplot.plot(x_line, y_line, '--', color='red')\n",
        "pyplot.show()"
      ],
      "metadata": {
        "colab": {
          "base_uri": "https://localhost:8080/",
          "height": 282
        },
        "id": "ldDPMR6Z3HKE",
        "outputId": "5027a147-eaa9-492b-b43e-640b2f095463"
      },
      "execution_count": null,
      "outputs": [
        {
          "output_type": "stream",
          "name": "stdout",
          "text": [
            "y = 3.25444 * x + -0.01170 * x^2 + -155.02799\n"
          ]
        },
        {
          "output_type": "display_data",
          "data": {
            "text/plain": [
              "<Figure size 432x288 with 1 Axes>"
            ],
            "image/png": "[encoded data removed]"
          },
          "metadata": {
            "needs_background": "light"
          }
        }
      ]
    },
    {
      "cell_type": "markdown",
      "source": [
        "## 5.3.6 Curve fitting with fifth degree polynomial"
      ],
      "metadata": {
        "id": "G30V-N_N3XBM"
      }
    },
    {
      "cell_type": "code",
      "source": [
        "from numpy import arange\n",
        "from pandas import read_csv\n",
        "from scipy.optimize import curve_fit\n",
        "from matplotlib import pyplot\n",
        "\n",
        "def basis_function(x, a, b, c, d, e, f):\n",
        "  return (a * x) + (b * x**2) + (c * x**3) + (d * x**4) + (e * x**5) + f\n",
        "\n",
        "url = 'http://raw.githubusercontent.com/jbrownlee/Datasets/master/longley.csv'\n",
        "dataframe = read_csv(url, header=None)\n",
        "data = dataframe.values\n",
        "\n",
        "x, y = data[:, 4], data[:, -1]\n",
        "\n",
        "popt, _ = curve_fit(basis_function, x, y)\n",
        "\n",
        "a, b, c, d, e, f = popt\n",
        "\n",
        "pyplot.scatter(x, y)\n",
        "x_line = arange(min(x), max(x), 1)\n",
        "y_line = basis_function(x_line, a, b, c, d, e, f)\n",
        "pyplot.plot(x_line, y_line, '--', color='red')\n",
        "pyplot.show()"
      ],
      "metadata": {
        "colab": {
          "base_uri": "https://localhost:8080/",
          "height": 265
        },
        "id": "G0bFexyE3biI",
        "outputId": "dce2fe41-7f08-45b7-9db4-94d4fec3965a"
      },
      "execution_count": null,
      "outputs": [
        {
          "output_type": "display_data",
          "data": {
            "text/plain": [
              "<Figure size 432x288 with 1 Axes>"
            ],
            "image/png": "[encoded data removed]"
          },
          "metadata": {
            "needs_background": "light"
          }
        }
      ]
    },
    {
      "cell_type": "markdown",
      "source": [
        "## 5.3.7 Curve fitting with sine wave and a second degree polynomial"
      ],
      "metadata": {
        "id": "bj-o1_H83tsw"
      }
    },
    {
      "cell_type": "code",
      "source": [
        "from numpy import sin\n",
        "from numpy import sqrt\n",
        "from numpy import arange\n",
        "from pandas import read_csv\n",
        "from scipy.optimize import curve_fit\n",
        "from matplotlib import pyplot\n",
        "\n",
        "def basis_function(x, a, b, c, d):\n",
        "  return a * sin(b - x) + c * x**2 + d \n",
        "\n",
        "url = 'http://raw.githubusercontent.com/jbrownlee/Datasets/master/longley.csv'\n",
        "dataframe = read_csv(url, header=None)\n",
        "data = dataframe.values\n",
        "\n",
        "x, y = data[:, 4], data[:, -1]\n",
        "\n",
        "popt, _ = curve_fit(basis_function, x, y)\n",
        "\n",
        "a, b, c, d = popt\n",
        "print(popt)\n",
        "\n",
        "pyplot.scatter(x, y)\n",
        "x_line = arange(min(x), max(x), 1)\n",
        "y_line = basis_function(x_line, a, b, c, d)\n",
        "pyplot.plot(x_line, y_line, '--', color='red')\n",
        "pyplot.show()"
      ],
      "metadata": {
        "colab": {
          "base_uri": "https://localhost:8080/",
          "height": 282
        },
        "id": "QMEoapef4Otp",
        "outputId": "04fe0d3b-035e-4b0e-b5d7-4968e96391b6"
      },
      "execution_count": null,
      "outputs": [
        {
          "output_type": "stream",
          "name": "stdout",
          "text": [
            "[8.83095297e-01 1.48622917e+00 2.05997114e-03 3.69046170e+01]\n"
          ]
        },
        {
          "output_type": "display_data",
          "data": {
            "text/plain": [
              "<Figure size 432x288 with 1 Axes>"
            ],
            "image/png": "[encoded data removed]"
          },
          "metadata": {
            "needs_background": "light"
          }
        }
      ]
    }
  ]
}